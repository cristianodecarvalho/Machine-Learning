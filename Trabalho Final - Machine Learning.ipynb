{
 "cells": [
  {
   "cell_type": "markdown",
   "metadata": {},
   "source": [
    "## Regressão Linear"
   ]
  },
  {
   "cell_type": "code",
   "execution_count": 1,
   "metadata": {},
   "outputs": [],
   "source": [
    "import pandas as pd\n",
    "import numpy as np\n",
    "import matplotlib.pyplot as plt\n",
    "import random\n",
    "import array\n",
    "import seaborn as sb\n",
    "\n",
    "from sklearn.model_selection import train_test_split\n",
    "from sklearn.metrics import classification_report, accuracy_score\n",
    "from sklearn.metrics import mean_absolute_error, mean_squared_error\n",
    "from sklearn.metrics import confusion_matrix\n",
    "from sklearn.metrics import roc_auc_score\n",
    "from sklearn.metrics import roc_curve, auc\n",
    "from sklearn.metrics import f1_score\n",
    "from sklearn.svm import SVC\n",
    "from math import sqrt"
   ]
  },
  {
   "cell_type": "code",
   "execution_count": 2,
   "metadata": {},
   "outputs": [],
   "source": [
    "dataset = pd.read_csv('high_diamond_ranked_10min.csv').drop(columns=['gameId'])"
   ]
  },
  {
   "cell_type": "code",
   "execution_count": 3,
   "metadata": {},
   "outputs": [],
   "source": [
    "X = dataset.values[:, 1:]\n",
    "Y = dataset.values[:,0]\n",
    "xTreino, xTeste, yTreino, yTeste = train_test_split(X, Y, test_size = 0.20)"
   ]
  },
  {
   "cell_type": "code",
   "execution_count": 4,
   "metadata": {},
   "outputs": [
    {
     "data": {
      "text/plain": [
       "array([0., 0., 0., ..., 0., 0., 1.])"
      ]
     },
     "execution_count": 4,
     "metadata": {},
     "output_type": "execute_result"
    }
   ],
   "source": [
    "Y"
   ]
  },
  {
   "cell_type": "code",
   "execution_count": 5,
   "metadata": {},
   "outputs": [
    {
     "name": "stdout",
     "output_type": "stream",
     "text": [
      "<class 'pandas.core.frame.DataFrame'>\n",
      "RangeIndex: 9879 entries, 0 to 9878\n",
      "Data columns (total 39 columns):\n",
      " #   Column                        Non-Null Count  Dtype  \n",
      "---  ------                        --------------  -----  \n",
      " 0   blueWins                      9879 non-null   int64  \n",
      " 1   blueWardsPlaced               9879 non-null   int64  \n",
      " 2   blueWardsDestroyed            9879 non-null   int64  \n",
      " 3   blueFirstBlood                9879 non-null   int64  \n",
      " 4   blueKills                     9879 non-null   int64  \n",
      " 5   blueDeaths                    9879 non-null   int64  \n",
      " 6   blueAssists                   9879 non-null   int64  \n",
      " 7   blueEliteMonsters             9879 non-null   int64  \n",
      " 8   blueDragons                   9879 non-null   int64  \n",
      " 9   blueHeralds                   9879 non-null   int64  \n",
      " 10  blueTowersDestroyed           9879 non-null   int64  \n",
      " 11  blueTotalGold                 9879 non-null   int64  \n",
      " 12  blueAvgLevel                  9879 non-null   float64\n",
      " 13  blueTotalExperience           9879 non-null   int64  \n",
      " 14  blueTotalMinionsKilled        9879 non-null   int64  \n",
      " 15  blueTotalJungleMinionsKilled  9879 non-null   int64  \n",
      " 16  blueGoldDiff                  9879 non-null   int64  \n",
      " 17  blueExperienceDiff            9879 non-null   int64  \n",
      " 18  blueCSPerMin                  9879 non-null   float64\n",
      " 19  blueGoldPerMin                9879 non-null   float64\n",
      " 20  redWardsPlaced                9879 non-null   int64  \n",
      " 21  redWardsDestroyed             9879 non-null   int64  \n",
      " 22  redFirstBlood                 9879 non-null   int64  \n",
      " 23  redKills                      9879 non-null   int64  \n",
      " 24  redDeaths                     9879 non-null   int64  \n",
      " 25  redAssists                    9879 non-null   int64  \n",
      " 26  redEliteMonsters              9879 non-null   int64  \n",
      " 27  redDragons                    9879 non-null   int64  \n",
      " 28  redHeralds                    9879 non-null   int64  \n",
      " 29  redTowersDestroyed            9879 non-null   int64  \n",
      " 30  redTotalGold                  9879 non-null   int64  \n",
      " 31  redAvgLevel                   9879 non-null   float64\n",
      " 32  redTotalExperience            9879 non-null   int64  \n",
      " 33  redTotalMinionsKilled         9879 non-null   int64  \n",
      " 34  redTotalJungleMinionsKilled   9879 non-null   int64  \n",
      " 35  redGoldDiff                   9879 non-null   int64  \n",
      " 36  redExperienceDiff             9879 non-null   int64  \n",
      " 37  redCSPerMin                   9879 non-null   float64\n",
      " 38  redGoldPerMin                 9879 non-null   float64\n",
      "dtypes: float64(6), int64(33)\n",
      "memory usage: 2.9 MB\n"
     ]
    }
   ],
   "source": [
    "dataset.info()"
   ]
  },
  {
   "cell_type": "markdown",
   "metadata": {},
   "source": [
    "# Regressão Linear"
   ]
  },
  {
   "cell_type": "code",
   "execution_count": 6,
   "metadata": {},
   "outputs": [],
   "source": [
    "def normalizar(X, Y):\n",
    "\n",
    "    Xmedia = np.mean(X, axis=0)\n",
    "    Ymedia = np.mean(Y, axis=0)\n",
    "    XdesvioPadrao = np.std(X, axis = 0)\n",
    "    YdesvioPadrao = np.std(Y, axis = 0)\n",
    "    X = (X - Xmedia)/XdesvioPadrao\n",
    "    Y = (Y - Ymedia)/YdesvioPadrao\n",
    "    \n",
    "    return X, Y"
   ]
  },
  {
   "cell_type": "code",
   "execution_count": 7,
   "metadata": {},
   "outputs": [
    {
     "data": {
      "text/plain": [
       "(array([[-0.40406509, -0.375095  , -1.00494707, ...,  0.19512822,\n",
       "         -0.75701336, -0.32606401],\n",
       "        [ 0.6096357 ,  0.53674006,  0.99507728, ..., -0.28307823,\n",
       "         -0.61963321,  0.16362407],\n",
       "        [-0.62933194, -0.83101252,  0.99507728, ...,  0.48621041,\n",
       "          0.34202785, -0.45249986],\n",
       "        ...,\n",
       "        [-0.51669852,  0.08082253,  0.99507728, ...,  1.61051537,\n",
       "          1.3036889 ,  1.5223078 ],\n",
       "        [-0.40406509, -0.375095  ,  0.99507728, ...,  0.34014953,\n",
       "          1.0289286 , -0.12202731],\n",
       "        [-0.4603818 ,  0.08082253, -1.00494707, ...,  0.42591482,\n",
       "          0.52520138,  1.10620673]]),\n",
       " array([-0.99457375,  1.00545585, -0.99457375, ..., -0.99457375,\n",
       "         1.00545585, -0.99457375]))"
      ]
     },
     "execution_count": 7,
     "metadata": {},
     "output_type": "execute_result"
    }
   ],
   "source": [
    "normalizar(xTreino,yTreino)"
   ]
  },
  {
   "cell_type": "code",
   "execution_count": 8,
   "metadata": {},
   "outputs": [],
   "source": [
    "def sigmoide(z):\n",
    "    return 1 / (1 + np.exp(-z))"
   ]
  },
  {
   "cell_type": "code",
   "execution_count": 9,
   "metadata": {},
   "outputs": [],
   "source": [
    "def gradienteDescendenteEstocastico(X, Y, epocas, alfa):\n",
    "    X = np.insert(X, 0, 1, axis =1)\n",
    "    W = np.ones((X.shape[1],), dtype=float)\n",
    "    y_predicted = X.dot(W)\n",
    "    data =np.append(X, np.split(Y, X.shape[0], axis=0), axis=1)\n",
    "    erro = []\n",
    "\n",
    "    for epoca in range(epocas):\n",
    "        somatorio = 0\n",
    "        for i in range(X.shape[0]):\n",
    "            W  = W + alfa * (Y[i] - sigmoide(y_predicted[i])) * X[i]\n",
    "            somatorio += (Y[i] - sigmoide(y_predicted[i])) * X[i]\n",
    "        \n",
    "        erro.append((-1/X.shape[0]) * somatorio)        \n",
    "        data = np.random.permutation(data)\n",
    "        X = data[: ,0:X.shape[1]]\n",
    "        Y = data[:,X.shape[1]]\n",
    "        \n",
    "        y_predicted = X.dot(W)  \n",
    "    \n",
    "    return W, erro"
   ]
  },
  {
   "cell_type": "code",
   "execution_count": 10,
   "metadata": {},
   "outputs": [],
   "source": [
    "def predicaoRegrecaoLogisticaBinaria(X, W):\n",
    "    \n",
    "    predictions = []\n",
    "    X = np.insert(X, 0, 1, axis =1)\n",
    "    for i in range(X.shape[0]):\n",
    "        predictions.append(round(sigmoide(X[i].dot(W))))\n",
    "        \n",
    "    return predictions"
   ]
  },
  {
   "cell_type": "code",
   "execution_count": 11,
   "metadata": {},
   "outputs": [],
   "source": [
    "def predicaoRegrecaoLogistica(X, W):\n",
    "    \n",
    "    predictions = []\n",
    "    X = np.insert(X, 0, 1, axis =1)\n",
    "    for i in range(X.shape[0]):\n",
    "        predictions.append(sigmoide(X[i].dot(W)))\n",
    "        \n",
    "    return predictions"
   ]
  },
  {
   "cell_type": "code",
   "execution_count": 12,
   "metadata": {},
   "outputs": [],
   "source": [
    "xTreinoNormalizado, yTreinoNormalizado = normalizar(xTreino, yTreino)\n",
    "xTesteNormalizado, yTesteNormalizado = normalizar(xTeste, yTeste)"
   ]
  },
  {
   "cell_type": "code",
   "execution_count": 13,
   "metadata": {},
   "outputs": [
    {
     "name": "stderr",
     "output_type": "stream",
     "text": [
      "D:\\anaconda3\\lib\\site-packages\\ipykernel_launcher.py:2: RuntimeWarning: overflow encountered in exp\n",
      "  \n"
     ]
    }
   ],
   "source": [
    "W, erro = gradienteDescendenteEstocastico(xTreinoNormalizado, yTreinoNormalizado, 100, 0.001)"
   ]
  },
  {
   "cell_type": "code",
   "execution_count": 14,
   "metadata": {},
   "outputs": [
    {
     "name": "stderr",
     "output_type": "stream",
     "text": [
      "D:\\anaconda3\\lib\\site-packages\\ipykernel_launcher.py:2: RuntimeWarning: overflow encountered in exp\n",
      "  \n"
     ]
    }
   ],
   "source": [
    "predicoesBinarias = predicaoRegrecaoLogisticaBinaria(xTeste, W)"
   ]
  },
  {
   "cell_type": "code",
   "execution_count": 15,
   "metadata": {},
   "outputs": [],
   "source": [
    "def acuracia(x,y):\n",
    "  acerto = 0\n",
    "  erro = 0\n",
    "  contLinhasAcerto = 0\n",
    "  for i in range(len(x)):\n",
    "    if(y[i] == 1):\n",
    "      contLinhasAcerto = contLinhasAcerto + 1\n",
    "    if(x[i] == y[i]):\n",
    "      acerto = acerto + 1\n",
    "    else:\n",
    "      erro = erro + 1\n",
    "  acuracia = acerto/len(x)\n",
    "  print(\"acertos : \"+str(acerto)+\", erros: \"+str(erro)+\", acuracia : \"+str(acuracia)+\", linhasAcerto1 : \"+str(contLinhasAcerto))"
   ]
  },
  {
   "cell_type": "code",
   "execution_count": 16,
   "metadata": {},
   "outputs": [
    {
     "name": "stdout",
     "output_type": "stream",
     "text": [
      "acertos : 1417, erros: 559, acuracia : 0.7171052631578947, linhasAcerto1 : 1000\n"
     ]
    }
   ],
   "source": [
    "acuracia(predicoesBinarias,yTeste)"
   ]
  },
  {
   "cell_type": "code",
   "execution_count": 17,
   "metadata": {},
   "outputs": [
    {
     "data": {
      "text/plain": [
       "0.7093083723348933"
      ]
     },
     "execution_count": 17,
     "metadata": {},
     "output_type": "execute_result"
    }
   ],
   "source": [
    "f1_score(yTeste, predicoesBinarias)"
   ]
  },
  {
   "cell_type": "code",
   "execution_count": 18,
   "metadata": {},
   "outputs": [
    {
     "name": "stdout",
     "output_type": "stream",
     "text": [
      "              precision    recall  f1-score   support\n",
      "\n",
      "         0.0       0.70      0.75      0.72       976\n",
      "         1.0       0.74      0.68      0.71      1000\n",
      "\n",
      "    accuracy                           0.72      1976\n",
      "   macro avg       0.72      0.72      0.72      1976\n",
      "weighted avg       0.72      0.72      0.72      1976\n",
      "\n"
     ]
    }
   ],
   "source": [
    "print(classification_report(yTeste, predicoesBinarias))"
   ]
  },
  {
   "cell_type": "code",
   "execution_count": 19,
   "metadata": {},
   "outputs": [
    {
     "data": {
      "text/plain": [
       "<matplotlib.axes._subplots.AxesSubplot at 0x27f839a4cc8>"
      ]
     },
     "execution_count": 19,
     "metadata": {},
     "output_type": "execute_result"
    },
    {
     "data": {
      "image/png": "[encoded data removed]",
      "text/plain": [
       "<Figure size 360x360 with 2 Axes>"
      ]
     },
     "metadata": {
      "needs_background": "light"
     },
     "output_type": "display_data"
    }
   ],
   "source": [
    "matrizDeConfusao = confusion_matrix(yTeste, predicoesBinarias)\n",
    "matrizDeConfusaoDF = pd.DataFrame(matrizDeConfusao, index = np.unique(yTeste), columns = np.unique(yTeste))\n",
    "\n",
    "plt.figure(figsize=(5,5))\n",
    "sb.heatmap(matrizDeConfusao, annot=True, annot_kws={\"size\": 12}, cmap=\"YlGnBu\")"
   ]
  },
  {
   "cell_type": "code",
   "execution_count": 20,
   "metadata": {},
   "outputs": [
    {
     "data": {
      "text/html": [
       "<div>\n",
       "<style scoped>\n",
       "    .dataframe tbody tr th:only-of-type {\n",
       "        vertical-align: middle;\n",
       "    }\n",
       "\n",
       "    .dataframe tbody tr th {\n",
       "        vertical-align: top;\n",
       "    }\n",
       "\n",
       "    .dataframe thead th {\n",
       "        text-align: right;\n",
       "    }\n",
       "</style>\n",
       "<table border=\"1\" class=\"dataframe\">\n",
       "  <thead>\n",
       "    <tr style=\"text-align: right;\">\n",
       "      <th></th>\n",
       "      <th>0.0</th>\n",
       "      <th>1.0</th>\n",
       "    </tr>\n",
       "  </thead>\n",
       "  <tbody>\n",
       "    <tr>\n",
       "      <th>0.0</th>\n",
       "      <td>735</td>\n",
       "      <td>241</td>\n",
       "    </tr>\n",
       "    <tr>\n",
       "      <th>1.0</th>\n",
       "      <td>318</td>\n",
       "      <td>682</td>\n",
       "    </tr>\n",
       "  </tbody>\n",
       "</table>\n",
       "</div>"
      ],
      "text/plain": [
       "     0.0  1.0\n",
       "0.0  735  241\n",
       "1.0  318  682"
      ]
     },
     "execution_count": 20,
     "metadata": {},
     "output_type": "execute_result"
    }
   ],
   "source": [
    "matrizDeConfusaoDF"
   ]
  },
  {
   "cell_type": "markdown",
   "metadata": {},
   "source": [
    "# KNN"
   ]
  },
  {
   "cell_type": "code",
   "execution_count": 21,
   "metadata": {},
   "outputs": [],
   "source": [
    "def distanciaEuclidiana(linhaTeste, linhaTreino):\n",
    "    distancia = 0.0\n",
    "    for i in range(len(linhaTeste)):\n",
    "        distancia += (linhaTeste[i] - linhaTreino[i])**2\n",
    "    return sqrt(distancia)"
   ]
  },
  {
   "cell_type": "code",
   "execution_count": 22,
   "metadata": {},
   "outputs": [],
   "source": [
    "def getVizinho(treino, ytreino, linhaTeste, numeroDeVizinhos):\n",
    "    distancias = list()\n",
    "    for i in range(treino.shape[0]):\n",
    "        distancia = distanciaEuclidiana(linhaTeste, treino[i])\n",
    "        distancias.append((treino[i], distancia, ytreino[i]))\n",
    "    distancias.sort(key=lambda tup: tup[1])\n",
    "    vizinhos = list()\n",
    "    for i in range(numeroDeVizinhos):\n",
    "        vizinhos.append((distancias[i][0], distancias[i][2]))\n",
    "    return vizinhos"
   ]
  },
  {
   "cell_type": "code",
   "execution_count": 23,
   "metadata": {},
   "outputs": [],
   "source": [
    "def predicao(treino, teste, numeroDeVizinhos):\n",
    "    predito = list()\n",
    "    for i in range(teste.shape[0]):\n",
    "        neighbors = get_neighbors(treino, teste.iloc[i], numeroDeVizinhos)\n",
    "        output_values = [row[-1] for row in neighbors]\n",
    "        predito.append(max(set(output_values), key=output_values.count))\n",
    "    return predito"
   ]
  },
  {
   "cell_type": "code",
   "execution_count": 24,
   "metadata": {},
   "outputs": [],
   "source": [
    "def knn(xTreino, yTreino, xTeste, numeroDeVizinhos):\n",
    "    predito = list()\n",
    "    for i in range(len(xTeste)):\n",
    "        vizinhos = getVizinho(xTreino, yTreino, xTeste[i], numeroDeVizinhos)\n",
    "        saida = [row[-1] for row in vizinhos]\n",
    "        predito.append(max(set(saida), key=saida.count))\n",
    "    return predito"
   ]
  },
  {
   "cell_type": "code",
   "execution_count": 25,
   "metadata": {},
   "outputs": [],
   "source": [
    "predicaoKNN = knn(xTreino,yTreino,xTeste,2)"
   ]
  },
  {
   "cell_type": "code",
   "execution_count": 26,
   "metadata": {},
   "outputs": [
    {
     "name": "stdout",
     "output_type": "stream",
     "text": [
      "acertos : 1270, erros: 706, acuracia : 0.6427125506072875, linhasAcerto1 : 1000\n"
     ]
    }
   ],
   "source": [
    "acuracia(predicaoKNN,yTeste)"
   ]
  },
  {
   "cell_type": "code",
   "execution_count": 27,
   "metadata": {},
   "outputs": [
    {
     "data": {
      "text/plain": [
       "0.5679314565483476"
      ]
     },
     "execution_count": 27,
     "metadata": {},
     "output_type": "execute_result"
    }
   ],
   "source": [
    "f1_score(yTeste, predicaoKNN)"
   ]
  },
  {
   "cell_type": "code",
   "execution_count": 28,
   "metadata": {},
   "outputs": [
    {
     "name": "stdout",
     "output_type": "stream",
     "text": [
      "              precision    recall  f1-score   support\n",
      "\n",
      "         0.0       0.60      0.83      0.70       976\n",
      "         1.0       0.73      0.46      0.57      1000\n",
      "\n",
      "    accuracy                           0.64      1976\n",
      "   macro avg       0.67      0.64      0.63      1976\n",
      "weighted avg       0.67      0.64      0.63      1976\n",
      "\n"
     ]
    }
   ],
   "source": [
    "print(classification_report(yTeste, predicaoKNN))"
   ]
  },
  {
   "cell_type": "code",
   "execution_count": 29,
   "metadata": {},
   "outputs": [
    {
     "data": {
      "text/plain": [
       "<matplotlib.axes._subplots.AxesSubplot at 0x27f87bce408>"
      ]
     },
     "execution_count": 29,
     "metadata": {},
     "output_type": "execute_result"
    },
    {
     "data": {
      "image/png": "[encoded data removed]",
      "text/plain": [
       "<Figure size 360x360 with 2 Axes>"
      ]
     },
     "metadata": {
      "needs_background": "light"
     },
     "output_type": "display_data"
    }
   ],
   "source": [
    "matrizDeConfusao = confusion_matrix(yTeste, predicoesBinarias)\n",
    "matrizDeConfusaoDF = pd.DataFrame(matrizDeConfusao, index = np.unique(yTeste), columns = np.unique(yTeste))\n",
    "\n",
    "plt.figure(figsize=(5,5))\n",
    "sb.heatmap(matrizDeConfusao, annot=True, annot_kws={\"size\": 12}, cmap=\"YlGnBu\")"
   ]
  },
  {
   "cell_type": "code",
   "execution_count": 30,
   "metadata": {},
   "outputs": [
    {
     "data": {
      "text/html": [
       "<div>\n",
       "<style scoped>\n",
       "    .dataframe tbody tr th:only-of-type {\n",
       "        vertical-align: middle;\n",
       "    }\n",
       "\n",
       "    .dataframe tbody tr th {\n",
       "        vertical-align: top;\n",
       "    }\n",
       "\n",
       "    .dataframe thead th {\n",
       "        text-align: right;\n",
       "    }\n",
       "</style>\n",
       "<table border=\"1\" class=\"dataframe\">\n",
       "  <thead>\n",
       "    <tr style=\"text-align: right;\">\n",
       "      <th></th>\n",
       "      <th>0.0</th>\n",
       "      <th>1.0</th>\n",
       "    </tr>\n",
       "  </thead>\n",
       "  <tbody>\n",
       "    <tr>\n",
       "      <th>0.0</th>\n",
       "      <td>735</td>\n",
       "      <td>241</td>\n",
       "    </tr>\n",
       "    <tr>\n",
       "      <th>1.0</th>\n",
       "      <td>318</td>\n",
       "      <td>682</td>\n",
       "    </tr>\n",
       "  </tbody>\n",
       "</table>\n",
       "</div>"
      ],
      "text/plain": [
       "     0.0  1.0\n",
       "0.0  735  241\n",
       "1.0  318  682"
      ]
     },
     "execution_count": 30,
     "metadata": {},
     "output_type": "execute_result"
    }
   ],
   "source": [
    "matrizDeConfusaoDF"
   ]
  },
  {
   "cell_type": "markdown",
   "metadata": {},
   "source": [
    "# ÁRVORE DE DECISÃO"
   ]
  },
  {
   "cell_type": "code",
   "execution_count": 31,
   "metadata": {},
   "outputs": [],
   "source": [
    "from sklearn import tree\n",
    "from sklearn.model_selection import GridSearchCV, cross_val_score"
   ]
  },
  {
   "cell_type": "code",
   "execution_count": 32,
   "metadata": {},
   "outputs": [],
   "source": [
    "decisiontree = tree.DecisionTreeClassifier()\n",
    "\n",
    "criterion = ['gini', 'entropy']\n",
    "max_depth = [6,7,8,9,10]\n",
    "\n",
    "parameters = dict(decisiontree__criterion=criterion,\n",
    "                  decisiontree__max_depth=max_depth)\n",
    "\n",
    "param_grid = [{'criterion': ['gini'], 'max_depth': [6,7,8,9,10]},\n",
    "              {'criterion': ['entropy'], 'max_depth':[6,7,8,9,10]}]"
   ]
  },
  {
   "cell_type": "code",
   "execution_count": 33,
   "metadata": {},
   "outputs": [
    {
     "name": "stdout",
     "output_type": "stream",
     "text": [
      "Best Criterion: gini\n",
      "Best max_depth: 6\n"
     ]
    }
   ],
   "source": [
    "clf = GridSearchCV(decisiontree, param_grid)\n",
    "\n",
    "# Fit the grid search\n",
    "clf.fit(xTreino, yTreino)\n",
    "\n",
    "# View The Best Parameters\n",
    "print('Best Criterion:', clf.best_estimator_.get_params()['criterion'])\n",
    "print('Best max_depth:', clf.best_estimator_.get_params()['max_depth'])"
   ]
  },
  {
   "cell_type": "code",
   "execution_count": 34,
   "metadata": {},
   "outputs": [],
   "source": [
    "decisiontree_ = tree.DecisionTreeClassifier(criterion='entropy',max_depth=6)\n",
    "melhorArvore = decisiontree_.fit(xTreino,yTreino)"
   ]
  },
  {
   "cell_type": "code",
   "execution_count": 35,
   "metadata": {},
   "outputs": [
    {
     "data": {
      "text/plain": [
       "0.7120445344129555"
      ]
     },
     "execution_count": 35,
     "metadata": {},
     "output_type": "execute_result"
    }
   ],
   "source": [
    "melhorArvore.score(xTeste,yTeste)"
   ]
  },
  {
   "cell_type": "code",
   "execution_count": 36,
   "metadata": {},
   "outputs": [],
   "source": [
    "predicaoArvore = melhorArvore.predict(xTeste)"
   ]
  },
  {
   "cell_type": "code",
   "execution_count": 37,
   "metadata": {},
   "outputs": [
    {
     "name": "stdout",
     "output_type": "stream",
     "text": [
      "              precision    recall  f1-score   support\n",
      "\n",
      "         0.0       0.71      0.71      0.71       976\n",
      "         1.0       0.72      0.71      0.71      1000\n",
      "\n",
      "    accuracy                           0.71      1976\n",
      "   macro avg       0.71      0.71      0.71      1976\n",
      "weighted avg       0.71      0.71      0.71      1976\n",
      "\n"
     ]
    }
   ],
   "source": [
    "print(classification_report(yTeste, predicaoArvore))"
   ]
  },
  {
   "cell_type": "code",
   "execution_count": 40,
   "metadata": {},
   "outputs": [
    {
     "data": {
      "text/plain": [
       "<matplotlib.axes._subplots.AxesSubplot at 0x27f88206108>"
      ]
     },
     "execution_count": 40,
     "metadata": {},
     "output_type": "execute_result"
    },
    {
     "data": {
      "image/png": "[encoded data removed]",
      "text/plain": [
       "<Figure size 360x360 with 2 Axes>"
      ]
     },
     "metadata": {
      "needs_background": "light"
     },
     "output_type": "display_data"
    }
   ],
   "source": [
    "matrizDeConfusao = confusion_matrix(yTeste, predicaoArvore)\n",
    "matrizDeConfusaoDF = pd.DataFrame(matrizDeConfusao, index = np.unique(yTeste), columns = np.unique(yTeste))\n",
    "\n",
    "plt.figure(figsize=(5,5))\n",
    "sb.heatmap(matrizDeConfusaoDF, annot=True, annot_kws={\"size\": 12}, cmap=\"YlGnBu\")"
   ]
  },
  {
   "cell_type": "code",
   "execution_count": 41,
   "metadata": {},
   "outputs": [
    {
     "data": {
      "text/plain": [
       "array([[697, 279],\n",
       "       [290, 710]], dtype=int64)"
      ]
     },
     "execution_count": 41,
     "metadata": {},
     "output_type": "execute_result"
    }
   ],
   "source": [
    "matrizDeConfusao"
   ]
  },
  {
   "cell_type": "markdown",
   "metadata": {},
   "source": [
    "# SVM"
   ]
  },
  {
   "cell_type": "code",
   "execution_count": null,
   "metadata": {},
   "outputs": [
    {
     "name": "stdout",
     "output_type": "stream",
     "text": [
      "# Tuning hyper-parameters for precision\n",
      "\n"
     ]
    },
    {
     "name": "stderr",
     "output_type": "stream",
     "text": [
      "D:\\anaconda3\\lib\\site-packages\\sklearn\\metrics\\_classification.py:1272: UndefinedMetricWarning: Precision is ill-defined and being set to 0.0 in labels with no predicted samples. Use `zero_division` parameter to control this behavior.\n",
      "  _warn_prf(average, modifier, msg_start, len(result))\n",
      "D:\\anaconda3\\lib\\site-packages\\sklearn\\metrics\\_classification.py:1272: UndefinedMetricWarning: Precision is ill-defined and being set to 0.0 in labels with no predicted samples. Use `zero_division` parameter to control this behavior.\n",
      "  _warn_prf(average, modifier, msg_start, len(result))\n",
      "D:\\anaconda3\\lib\\site-packages\\sklearn\\metrics\\_classification.py:1272: UndefinedMetricWarning: Precision is ill-defined and being set to 0.0 in labels with no predicted samples. Use `zero_division` parameter to control this behavior.\n",
      "  _warn_prf(average, modifier, msg_start, len(result))\n",
      "D:\\anaconda3\\lib\\site-packages\\sklearn\\metrics\\_classification.py:1272: UndefinedMetricWarning: Precision is ill-defined and being set to 0.0 in labels with no predicted samples. Use `zero_division` parameter to control this behavior.\n",
      "  _warn_prf(average, modifier, msg_start, len(result))\n",
      "D:\\anaconda3\\lib\\site-packages\\sklearn\\metrics\\_classification.py:1272: UndefinedMetricWarning: Precision is ill-defined and being set to 0.0 in labels with no predicted samples. Use `zero_division` parameter to control this behavior.\n",
      "  _warn_prf(average, modifier, msg_start, len(result))\n",
      "D:\\anaconda3\\lib\\site-packages\\sklearn\\metrics\\_classification.py:1272: UndefinedMetricWarning: Precision is ill-defined and being set to 0.0 in labels with no predicted samples. Use `zero_division` parameter to control this behavior.\n",
      "  _warn_prf(average, modifier, msg_start, len(result))\n",
      "D:\\anaconda3\\lib\\site-packages\\sklearn\\metrics\\_classification.py:1272: UndefinedMetricWarning: Precision is ill-defined and being set to 0.0 in labels with no predicted samples. Use `zero_division` parameter to control this behavior.\n",
      "  _warn_prf(average, modifier, msg_start, len(result))\n",
      "D:\\anaconda3\\lib\\site-packages\\sklearn\\metrics\\_classification.py:1272: UndefinedMetricWarning: Precision is ill-defined and being set to 0.0 in labels with no predicted samples. Use `zero_division` parameter to control this behavior.\n",
      "  _warn_prf(average, modifier, msg_start, len(result))\n",
      "D:\\anaconda3\\lib\\site-packages\\sklearn\\metrics\\_classification.py:1272: UndefinedMetricWarning: Precision is ill-defined and being set to 0.0 in labels with no predicted samples. Use `zero_division` parameter to control this behavior.\n",
      "  _warn_prf(average, modifier, msg_start, len(result))\n",
      "D:\\anaconda3\\lib\\site-packages\\sklearn\\metrics\\_classification.py:1272: UndefinedMetricWarning: Precision is ill-defined and being set to 0.0 in labels with no predicted samples. Use `zero_division` parameter to control this behavior.\n",
      "  _warn_prf(average, modifier, msg_start, len(result))\n",
      "D:\\anaconda3\\lib\\site-packages\\sklearn\\metrics\\_classification.py:1272: UndefinedMetricWarning: Precision is ill-defined and being set to 0.0 in labels with no predicted samples. Use `zero_division` parameter to control this behavior.\n",
      "  _warn_prf(average, modifier, msg_start, len(result))\n",
      "D:\\anaconda3\\lib\\site-packages\\sklearn\\metrics\\_classification.py:1272: UndefinedMetricWarning: Precision is ill-defined and being set to 0.0 in labels with no predicted samples. Use `zero_division` parameter to control this behavior.\n",
      "  _warn_prf(average, modifier, msg_start, len(result))\n",
      "D:\\anaconda3\\lib\\site-packages\\sklearn\\metrics\\_classification.py:1272: UndefinedMetricWarning: Precision is ill-defined and being set to 0.0 in labels with no predicted samples. Use `zero_division` parameter to control this behavior.\n",
      "  _warn_prf(average, modifier, msg_start, len(result))\n",
      "D:\\anaconda3\\lib\\site-packages\\sklearn\\metrics\\_classification.py:1272: UndefinedMetricWarning: Precision is ill-defined and being set to 0.0 in labels with no predicted samples. Use `zero_division` parameter to control this behavior.\n",
      "  _warn_prf(average, modifier, msg_start, len(result))\n",
      "D:\\anaconda3\\lib\\site-packages\\sklearn\\metrics\\_classification.py:1272: UndefinedMetricWarning: Precision is ill-defined and being set to 0.0 in labels with no predicted samples. Use `zero_division` parameter to control this behavior.\n",
      "  _warn_prf(average, modifier, msg_start, len(result))\n",
      "D:\\anaconda3\\lib\\site-packages\\sklearn\\metrics\\_classification.py:1272: UndefinedMetricWarning: Precision is ill-defined and being set to 0.0 in labels with no predicted samples. Use `zero_division` parameter to control this behavior.\n",
      "  _warn_prf(average, modifier, msg_start, len(result))\n",
      "D:\\anaconda3\\lib\\site-packages\\sklearn\\metrics\\_classification.py:1272: UndefinedMetricWarning: Precision is ill-defined and being set to 0.0 in labels with no predicted samples. Use `zero_division` parameter to control this behavior.\n",
      "  _warn_prf(average, modifier, msg_start, len(result))\n",
      "D:\\anaconda3\\lib\\site-packages\\sklearn\\metrics\\_classification.py:1272: UndefinedMetricWarning: Precision is ill-defined and being set to 0.0 in labels with no predicted samples. Use `zero_division` parameter to control this behavior.\n",
      "  _warn_prf(average, modifier, msg_start, len(result))\n",
      "D:\\anaconda3\\lib\\site-packages\\sklearn\\metrics\\_classification.py:1272: UndefinedMetricWarning: Precision is ill-defined and being set to 0.0 in labels with no predicted samples. Use `zero_division` parameter to control this behavior.\n",
      "  _warn_prf(average, modifier, msg_start, len(result))\n",
      "D:\\anaconda3\\lib\\site-packages\\sklearn\\metrics\\_classification.py:1272: UndefinedMetricWarning: Precision is ill-defined and being set to 0.0 in labels with no predicted samples. Use `zero_division` parameter to control this behavior.\n",
      "  _warn_prf(average, modifier, msg_start, len(result))\n"
     ]
    }
   ],
   "source": [
    "tuned_parameters = [{'kernel': ['rbf'], 'gamma': [1e-3, 1e-4],\n",
    "                     'C': [1, 10, 100, 1000]},\n",
    "                    {'kernel': ['linear'], 'C': [1, 10, 100, 1000]}]\n",
    "\n",
    "scores = ['precision', 'recall']\n",
    "\n",
    "for score in scores:\n",
    "    print(\"# Tuning hyper-parameters for %s\" % score)\n",
    "    print()\n",
    "\n",
    "    clf = GridSearchCV(\n",
    "        SVC(), tuned_parameters, scoring='%s_macro' % score\n",
    "    )\n",
    "    clf.fit(xTreino, yTreino)\n",
    "\n",
    "    print(\"Best parameters set found on development set:\")\n",
    "    print()\n",
    "    print(clf.best_params_)\n",
    "    print()\n",
    "    print(\"Grid scores on development set:\")\n",
    "    print()\n",
    "    means = clf.cv_results_['mean_test_score']\n",
    "    stds = clf.cv_results_['std_test_score']\n",
    "    for mean, std, params in zip(means, stds, clf.cv_results_['params']):\n",
    "        print(\"%0.3f (+/-%0.03f) for %r\"\n",
    "              % (mean, std * 2, params))\n",
    "    print()\n",
    "\n",
    "    print(\"Detailed classification report:\")\n",
    "    print()\n",
    "    print(\"The model is trained on the full development set.\")\n",
    "    print(\"The scores are computed on the full evaluation set.\")\n",
    "    print()\n",
    "    y_true, y_pred = yTeste, clf.predict(xTeste)\n",
    "    print(classification_report(y_true, y_pred))\n",
    "    print()"
   ]
  }
 ],
 "metadata": {
  "kernelspec": {
   "display_name": "Python 3",
   "language": "python",
   "name": "python3"
  },
  "language_info": {
   "codemirror_mode": {
    "name": "ipython",
    "version": 3
   },
   "file_extension": ".py",
   "mimetype": "text/x-python",
   "name": "python",
   "nbconvert_exporter": "python",
   "pygments_lexer": "ipython3",
   "version": "3.7.6"
  }
 },
 "nbformat": 4,
 "nbformat_minor": 4
}
